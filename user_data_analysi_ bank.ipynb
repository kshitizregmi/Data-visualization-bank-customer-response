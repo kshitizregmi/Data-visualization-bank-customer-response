{
 "cells": [
  {
   "cell_type": "code",
   "execution_count": 1,
   "metadata": {},
   "outputs": [],
   "source": [
    "import pandas as pd"
   ]
  },
  {
   "cell_type": "code",
   "execution_count": 2,
   "metadata": {},
   "outputs": [],
   "source": [
    "df = pd.read_csv('D:\\sur.csv', encoding= 'unicode_escape')"
   ]
  },
  {
   "cell_type": "markdown",
   "metadata": {},
   "source": [
    "Length of dataframe/ total number of respondent "
   ]
  },
  {
   "cell_type": "code",
   "execution_count": 3,
   "metadata": {},
   "outputs": [
    {
     "name": "stdout",
     "output_type": "stream",
     "text": [
      "The Total number of Respondent is =  20\n"
     ]
    }
   ],
   "source": [
    "print(\"The Total number of Respondent is = \", df.shape[0])"
   ]
  },
  {
   "cell_type": "code",
   "execution_count": null,
   "metadata": {},
   "outputs": [],
   "source": []
  },
  {
   "cell_type": "code",
   "execution_count": 4,
   "metadata": {},
   "outputs": [
    {
     "data": {
      "text/plain": [
       "0     3/22/2020 23:31:49\n",
       "1      3/23/2020 0:00:45\n",
       "2      3/23/2020 0:33:53\n",
       "3      3/23/2020 5:10:33\n",
       "4      3/23/2020 5:15:52\n",
       "5      3/23/2020 5:17:14\n",
       "6      3/23/2020 8:28:26\n",
       "7     3/23/2020 11:26:15\n",
       "8     3/23/2020 12:05:06\n",
       "9     3/23/2020 12:14:12\n",
       "10    3/23/2020 12:23:11\n",
       "11    3/23/2020 12:25:09\n",
       "12    3/23/2020 12:31:59\n",
       "13    3/23/2020 12:33:30\n",
       "14    3/23/2020 12:36:07\n",
       "15    3/23/2020 12:36:25\n",
       "16    3/23/2020 12:37:14\n",
       "17    3/23/2020 13:03:16\n",
       "18    3/23/2020 14:01:10\n",
       "19    3/23/2020 14:06:17\n",
       "Name: Timestamp, dtype: object"
      ]
     },
     "execution_count": 4,
     "metadata": {},
     "output_type": "execute_result"
    }
   ],
   "source": [
    "df.pop('Timestamp')"
   ]
  },
  {
   "cell_type": "code",
   "execution_count": 5,
   "metadata": {},
   "outputs": [
    {
     "data": {
      "text/html": [
       "<div>\n",
       "<style scoped>\n",
       "    .dataframe tbody tr th:only-of-type {\n",
       "        vertical-align: middle;\n",
       "    }\n",
       "\n",
       "    .dataframe tbody tr th {\n",
       "        vertical-align: top;\n",
       "    }\n",
       "\n",
       "    .dataframe thead th {\n",
       "        text-align: right;\n",
       "    }\n",
       "</style>\n",
       "<table border=\"1\" class=\"dataframe\">\n",
       "  <thead>\n",
       "    <tr style=\"text-align: right;\">\n",
       "      <th></th>\n",
       "      <th>Gender</th>\n",
       "      <th>What is your age group?</th>\n",
       "      <th>What is your civil Status?</th>\n",
       "      <th>What is your occupation?</th>\n",
       "      <th>What is your monthly income level?</th>\n",
       "      <th>What factors do you consider while selecting the banking for services?</th>\n",
       "      <th>What media or source do you often use to search for banking service?</th>\n",
       "      <th>Do attractive prices of banking service attract you?</th>\n",
       "      <th>Will you comport by using banking services considering the great experience and quality of service?</th>\n",
       "      <th>Describe the overall state of relations between Nepalese banking and its customers.</th>\n",
       "      <th>Rate the degree of impact customer service has on corporate reputation.</th>\n",
       "      <th>How would you rate customer satisfaction at Nepalese banking?</th>\n",
       "      <th>How would you rate the effectiveness of Nepalese banking CRM?</th>\n",
       "      <th>How does Nepalese banking to any of your requests and complaints?</th>\n",
       "      <th>How would you describe Nepalese banking strategy with regards to CRM?</th>\n",
       "      <th>Lastly, will you recommend Nepalese banking service to others?</th>\n",
       "    </tr>\n",
       "  </thead>\n",
       "  <tbody>\n",
       "    <tr>\n",
       "      <td>0</td>\n",
       "      <td>Female</td>\n",
       "      <td>21 - 30 years old</td>\n",
       "      <td>Single</td>\n",
       "      <td>Students</td>\n",
       "      <td>£500- £1000</td>\n",
       "      <td>Customer service  attentive to particular nee...</td>\n",
       "      <td>Internet</td>\n",
       "      <td>Agree</td>\n",
       "      <td>Likely</td>\n",
       "      <td>Good</td>\n",
       "      <td>A lot</td>\n",
       "      <td>Fairly satisfied</td>\n",
       "      <td>Fairly effective</td>\n",
       "      <td>Employees take too long to respond to your que...</td>\n",
       "      <td>Effective</td>\n",
       "      <td>Likely</td>\n",
       "    </tr>\n",
       "    <tr>\n",
       "      <td>1</td>\n",
       "      <td>Male</td>\n",
       "      <td>21 - 30 years old</td>\n",
       "      <td>Married</td>\n",
       "      <td>Others</td>\n",
       "      <td>£500- £1000</td>\n",
       "      <td>Reputation of the company - well known and int...</td>\n",
       "      <td>Internet</td>\n",
       "      <td>Agree</td>\n",
       "      <td>Likely</td>\n",
       "      <td>Good</td>\n",
       "      <td>A lot</td>\n",
       "      <td>Satisfied</td>\n",
       "      <td>Effective</td>\n",
       "      <td>Employees take too long to respond to your que...</td>\n",
       "      <td>Effective</td>\n",
       "      <td>Likely</td>\n",
       "    </tr>\n",
       "    <tr>\n",
       "      <td>2</td>\n",
       "      <td>Female</td>\n",
       "      <td>21 - 30 years old</td>\n",
       "      <td>Single</td>\n",
       "      <td>Students</td>\n",
       "      <td>£500- £1000</td>\n",
       "      <td>Customer service  attentive to particular nee...</td>\n",
       "      <td>Internet</td>\n",
       "      <td>Agree</td>\n",
       "      <td>Likely</td>\n",
       "      <td>Very good</td>\n",
       "      <td>Not too much</td>\n",
       "      <td>Fairly satisfied</td>\n",
       "      <td>Fairly effective</td>\n",
       "      <td>Employees respond your queries professionally.</td>\n",
       "      <td>Fairly effective</td>\n",
       "      <td>Likely</td>\n",
       "    </tr>\n",
       "    <tr>\n",
       "      <td>3</td>\n",
       "      <td>Male</td>\n",
       "      <td>21 - 30 years old</td>\n",
       "      <td>Single</td>\n",
       "      <td>Students</td>\n",
       "      <td>NaN</td>\n",
       "      <td>Customer service  attentive to particular nee...</td>\n",
       "      <td>Internet</td>\n",
       "      <td>Agree</td>\n",
       "      <td>Likely</td>\n",
       "      <td>Fair</td>\n",
       "      <td>A lot</td>\n",
       "      <td>Fairly satisfied</td>\n",
       "      <td>Fairly effective</td>\n",
       "      <td>Employees take too long to respond to your que...</td>\n",
       "      <td>Effective</td>\n",
       "      <td>Likely</td>\n",
       "    </tr>\n",
       "    <tr>\n",
       "      <td>4</td>\n",
       "      <td>Male</td>\n",
       "      <td>21 - 30 years old</td>\n",
       "      <td>Single</td>\n",
       "      <td>Students</td>\n",
       "      <td>NaN</td>\n",
       "      <td>Customer service  attentive to particular nee...</td>\n",
       "      <td>Internet</td>\n",
       "      <td>Agree</td>\n",
       "      <td>Likely</td>\n",
       "      <td>Fair</td>\n",
       "      <td>A little</td>\n",
       "      <td>Fairly satisfied</td>\n",
       "      <td>Fairly effective</td>\n",
       "      <td>Employees respond your queries professionally.</td>\n",
       "      <td>Effective</td>\n",
       "      <td>Likely</td>\n",
       "    </tr>\n",
       "    <tr>\n",
       "      <td>5</td>\n",
       "      <td>Female</td>\n",
       "      <td>21 - 30 years old</td>\n",
       "      <td>Single</td>\n",
       "      <td>Students</td>\n",
       "      <td>NaN</td>\n",
       "      <td>Reputation of the company - well known and int...</td>\n",
       "      <td>Friends &amp; relatives</td>\n",
       "      <td>Disagree</td>\n",
       "      <td>Likely</td>\n",
       "      <td>Poor</td>\n",
       "      <td>A little</td>\n",
       "      <td>Fairly satisfied</td>\n",
       "      <td>Fairly effective</td>\n",
       "      <td>Employees take too long to respond to your que...</td>\n",
       "      <td>Fairly effective</td>\n",
       "      <td>Likely</td>\n",
       "    </tr>\n",
       "    <tr>\n",
       "      <td>6</td>\n",
       "      <td>Female</td>\n",
       "      <td>21 - 30 years old</td>\n",
       "      <td>Single</td>\n",
       "      <td>Students</td>\n",
       "      <td>£500- £1000</td>\n",
       "      <td>Customer service  attentive to particular nee...</td>\n",
       "      <td>Internet</td>\n",
       "      <td>Agree</td>\n",
       "      <td>Very likely</td>\n",
       "      <td>Very good</td>\n",
       "      <td>Not too much</td>\n",
       "      <td>Satisfied</td>\n",
       "      <td>Fairly effective</td>\n",
       "      <td>Employees take too long to respond to your que...</td>\n",
       "      <td>Effective</td>\n",
       "      <td>Likely</td>\n",
       "    </tr>\n",
       "    <tr>\n",
       "      <td>7</td>\n",
       "      <td>Male</td>\n",
       "      <td>21 - 30 years old</td>\n",
       "      <td>Single</td>\n",
       "      <td>Others</td>\n",
       "      <td>£500- £1000</td>\n",
       "      <td>Reputation of the company - well known and int...</td>\n",
       "      <td>Internet</td>\n",
       "      <td>Agree</td>\n",
       "      <td>Likely</td>\n",
       "      <td>Fair</td>\n",
       "      <td>A little</td>\n",
       "      <td>Fairly satisfied</td>\n",
       "      <td>Fairly effective</td>\n",
       "      <td>Employees respond your queries professionally.</td>\n",
       "      <td>Fairly effective</td>\n",
       "      <td>Likely</td>\n",
       "    </tr>\n",
       "    <tr>\n",
       "      <td>8</td>\n",
       "      <td>Female</td>\n",
       "      <td>21 - 30 years old</td>\n",
       "      <td>Single</td>\n",
       "      <td>Students</td>\n",
       "      <td>£500- £1000</td>\n",
       "      <td>Customer service  attentive to particular nee...</td>\n",
       "      <td>Internet</td>\n",
       "      <td>Agree</td>\n",
       "      <td>Likely</td>\n",
       "      <td>Good</td>\n",
       "      <td>A little</td>\n",
       "      <td>Fairly satisfied</td>\n",
       "      <td>Fairly effective</td>\n",
       "      <td>Employees take too long to respond to your que...</td>\n",
       "      <td>Fairly effective</td>\n",
       "      <td>Likely</td>\n",
       "    </tr>\n",
       "    <tr>\n",
       "      <td>9</td>\n",
       "      <td>Female</td>\n",
       "      <td>21 - 30 years old</td>\n",
       "      <td>Single</td>\n",
       "      <td>Students</td>\n",
       "      <td>NaN</td>\n",
       "      <td>Loyalty programme- attractive rewards for loya...</td>\n",
       "      <td>Internet</td>\n",
       "      <td>Strongly agree</td>\n",
       "      <td>Very likely</td>\n",
       "      <td>Fair</td>\n",
       "      <td>Not too much</td>\n",
       "      <td>Fairly satisfied</td>\n",
       "      <td>Fairly effective</td>\n",
       "      <td>Employees respond your queries professionally.</td>\n",
       "      <td>Fairly effective</td>\n",
       "      <td>Likely</td>\n",
       "    </tr>\n",
       "    <tr>\n",
       "      <td>10</td>\n",
       "      <td>Female</td>\n",
       "      <td>21 - 30 years old</td>\n",
       "      <td>Single</td>\n",
       "      <td>Students</td>\n",
       "      <td>£500- £1000</td>\n",
       "      <td>Reputation of the company - well known and int...</td>\n",
       "      <td>Internet</td>\n",
       "      <td>Strongly agree</td>\n",
       "      <td>Likely</td>\n",
       "      <td>Good</td>\n",
       "      <td>Not too much</td>\n",
       "      <td>Satisfied</td>\n",
       "      <td>Effective</td>\n",
       "      <td>Employees respond your queries professionally.</td>\n",
       "      <td>Effective</td>\n",
       "      <td>Very likely</td>\n",
       "    </tr>\n",
       "    <tr>\n",
       "      <td>11</td>\n",
       "      <td>Male</td>\n",
       "      <td>21 - 30 years old</td>\n",
       "      <td>Single</td>\n",
       "      <td>Students</td>\n",
       "      <td>NaN</td>\n",
       "      <td>Customer service  attentive to particular nee...</td>\n",
       "      <td>Television</td>\n",
       "      <td>Agree</td>\n",
       "      <td>Likely</td>\n",
       "      <td>Fair</td>\n",
       "      <td>A little</td>\n",
       "      <td>Satisfied</td>\n",
       "      <td>Fairly effective</td>\n",
       "      <td>Employees take too long to respond to your que...</td>\n",
       "      <td>Option 5</td>\n",
       "      <td>Likely</td>\n",
       "    </tr>\n",
       "    <tr>\n",
       "      <td>12</td>\n",
       "      <td>Male</td>\n",
       "      <td>41 - 50 years old</td>\n",
       "      <td>Married</td>\n",
       "      <td>Technical</td>\n",
       "      <td>£1000 - £1500</td>\n",
       "      <td>Reputation of the company - well known and int...</td>\n",
       "      <td>Friends &amp; relatives</td>\n",
       "      <td>Agree</td>\n",
       "      <td>Very likely</td>\n",
       "      <td>Good</td>\n",
       "      <td>Not too much</td>\n",
       "      <td>Fairly satisfied</td>\n",
       "      <td>Fairly effective</td>\n",
       "      <td>Employees respond your queries professionally.</td>\n",
       "      <td>Fairly effective</td>\n",
       "      <td>Likely</td>\n",
       "    </tr>\n",
       "    <tr>\n",
       "      <td>13</td>\n",
       "      <td>Male</td>\n",
       "      <td>21 - 30 years old</td>\n",
       "      <td>Single</td>\n",
       "      <td>Students</td>\n",
       "      <td>NaN</td>\n",
       "      <td>Price- attractive price</td>\n",
       "      <td>Internet</td>\n",
       "      <td>Strongly agree</td>\n",
       "      <td>Very likely</td>\n",
       "      <td>Poor</td>\n",
       "      <td>A lot</td>\n",
       "      <td>Not satisfied</td>\n",
       "      <td>Not effective</td>\n",
       "      <td>Employees respond your queries professionally.</td>\n",
       "      <td>Fairly effective</td>\n",
       "      <td>Very unlikely</td>\n",
       "    </tr>\n",
       "    <tr>\n",
       "      <td>14</td>\n",
       "      <td>Male</td>\n",
       "      <td>21 - 30 years old</td>\n",
       "      <td>Single</td>\n",
       "      <td>Students</td>\n",
       "      <td>NaN</td>\n",
       "      <td>NaN</td>\n",
       "      <td>Internet</td>\n",
       "      <td>Agree</td>\n",
       "      <td>Likely</td>\n",
       "      <td>Fair</td>\n",
       "      <td>Not too much</td>\n",
       "      <td>Fairly satisfied</td>\n",
       "      <td>Fairly effective</td>\n",
       "      <td>Employees respond your queries professionally.</td>\n",
       "      <td>Fairly effective</td>\n",
       "      <td>Likely</td>\n",
       "    </tr>\n",
       "    <tr>\n",
       "      <td>15</td>\n",
       "      <td>Female</td>\n",
       "      <td>21 - 30 years old</td>\n",
       "      <td>Single</td>\n",
       "      <td>Students</td>\n",
       "      <td>NaN</td>\n",
       "      <td>Loyalty programme- attractive rewards for loya...</td>\n",
       "      <td>Internet</td>\n",
       "      <td>Strongly Disagree</td>\n",
       "      <td>Very likely</td>\n",
       "      <td>Good</td>\n",
       "      <td>A little</td>\n",
       "      <td>Satisfied</td>\n",
       "      <td>Effective</td>\n",
       "      <td>Employees take too long to respond to your que...</td>\n",
       "      <td>Effective</td>\n",
       "      <td>Likely</td>\n",
       "    </tr>\n",
       "    <tr>\n",
       "      <td>16</td>\n",
       "      <td>Male</td>\n",
       "      <td>21 - 30 years old</td>\n",
       "      <td>Single</td>\n",
       "      <td>Students</td>\n",
       "      <td>NaN</td>\n",
       "      <td>Customer service  attentive to particular nee...</td>\n",
       "      <td>Internet</td>\n",
       "      <td>Agree</td>\n",
       "      <td>Likely</td>\n",
       "      <td>Fair</td>\n",
       "      <td>Not too much</td>\n",
       "      <td>Fairly satisfied</td>\n",
       "      <td>Fairly effective</td>\n",
       "      <td>Employees take too long to respond to your que...</td>\n",
       "      <td>Effective</td>\n",
       "      <td>Likely</td>\n",
       "    </tr>\n",
       "    <tr>\n",
       "      <td>17</td>\n",
       "      <td>Male</td>\n",
       "      <td>21 - 30 years old</td>\n",
       "      <td>Single</td>\n",
       "      <td>Students</td>\n",
       "      <td>£500- £1000</td>\n",
       "      <td>Reputation of the company - well known and int...</td>\n",
       "      <td>Internet</td>\n",
       "      <td>Strongly agree</td>\n",
       "      <td>Likely</td>\n",
       "      <td>Good</td>\n",
       "      <td>A little</td>\n",
       "      <td>Satisfied</td>\n",
       "      <td>Effective</td>\n",
       "      <td>Employees respond your queries professionally.</td>\n",
       "      <td>Fairly effective</td>\n",
       "      <td>Likely</td>\n",
       "    </tr>\n",
       "    <tr>\n",
       "      <td>18</td>\n",
       "      <td>Male</td>\n",
       "      <td>21 - 30 years old</td>\n",
       "      <td>Single</td>\n",
       "      <td>Students</td>\n",
       "      <td>£500- £1000</td>\n",
       "      <td>Customer service  attentive to particular nee...</td>\n",
       "      <td>Internet</td>\n",
       "      <td>Agree</td>\n",
       "      <td>Likely</td>\n",
       "      <td>Good</td>\n",
       "      <td>A little</td>\n",
       "      <td>Satisfied</td>\n",
       "      <td>Effective</td>\n",
       "      <td>Employees take too long to respond to your que...</td>\n",
       "      <td>Fairly effective</td>\n",
       "      <td>Likely</td>\n",
       "    </tr>\n",
       "    <tr>\n",
       "      <td>19</td>\n",
       "      <td>Male</td>\n",
       "      <td>21 - 30 years old</td>\n",
       "      <td>Single</td>\n",
       "      <td>Students</td>\n",
       "      <td>£500- £1000</td>\n",
       "      <td>Reputation of the company - well known and int...</td>\n",
       "      <td>Friends &amp; relatives</td>\n",
       "      <td>Agree</td>\n",
       "      <td>Likely</td>\n",
       "      <td>Very good</td>\n",
       "      <td>A little</td>\n",
       "      <td>Not satisfied</td>\n",
       "      <td>Effective</td>\n",
       "      <td>Employees take too long to respond to your que...</td>\n",
       "      <td>Effective</td>\n",
       "      <td>Likely</td>\n",
       "    </tr>\n",
       "  </tbody>\n",
       "</table>\n",
       "</div>"
      ],
      "text/plain": [
       "    Gender What is your age group? What is your civil Status?  \\\n",
       "0   Female       21 - 30 years old                     Single   \n",
       "1     Male       21 - 30 years old                    Married   \n",
       "2   Female       21 - 30 years old                     Single   \n",
       "3     Male       21 - 30 years old                     Single   \n",
       "4     Male       21 - 30 years old                     Single   \n",
       "5   Female       21 - 30 years old                     Single   \n",
       "6   Female       21 - 30 years old                     Single   \n",
       "7     Male       21 - 30 years old                     Single   \n",
       "8   Female       21 - 30 years old                     Single   \n",
       "9   Female       21 - 30 years old                     Single   \n",
       "10  Female       21 - 30 years old                     Single   \n",
       "11    Male       21 - 30 years old                     Single   \n",
       "12    Male       41 - 50 years old                    Married   \n",
       "13    Male       21 - 30 years old                     Single   \n",
       "14    Male       21 - 30 years old                     Single   \n",
       "15  Female       21 - 30 years old                     Single   \n",
       "16    Male       21 - 30 years old                     Single   \n",
       "17    Male       21 - 30 years old                     Single   \n",
       "18    Male       21 - 30 years old                     Single   \n",
       "19    Male       21 - 30 years old                     Single   \n",
       "\n",
       "   What is your occupation?    What is your monthly income level?  \\\n",
       "0                     Students                        £500- £1000   \n",
       "1                       Others                        £500- £1000   \n",
       "2                     Students                        £500- £1000   \n",
       "3                     Students                                NaN   \n",
       "4                     Students                                NaN   \n",
       "5                     Students                                NaN   \n",
       "6                     Students                        £500- £1000   \n",
       "7                       Others                        £500- £1000   \n",
       "8                     Students                        £500- £1000   \n",
       "9                     Students                                NaN   \n",
       "10                    Students                        £500- £1000   \n",
       "11                    Students                                NaN   \n",
       "12                   Technical                      £1000 - £1500   \n",
       "13                    Students                                NaN   \n",
       "14                    Students                                NaN   \n",
       "15                    Students                                NaN   \n",
       "16                    Students                                NaN   \n",
       "17                    Students                        £500- £1000   \n",
       "18                    Students                        £500- £1000   \n",
       "19                    Students                        £500- £1000   \n",
       "\n",
       "   What factors do you consider while selecting the banking for services?  \\\n",
       "0   Customer service  attentive to particular nee...                       \n",
       "1   Reputation of the company - well known and int...                       \n",
       "2   Customer service  attentive to particular nee...                       \n",
       "3   Customer service  attentive to particular nee...                       \n",
       "4   Customer service  attentive to particular nee...                       \n",
       "5   Reputation of the company - well known and int...                       \n",
       "6   Customer service  attentive to particular nee...                       \n",
       "7   Reputation of the company - well known and int...                       \n",
       "8   Customer service  attentive to particular nee...                       \n",
       "9   Loyalty programme- attractive rewards for loya...                       \n",
       "10  Reputation of the company - well known and int...                       \n",
       "11  Customer service  attentive to particular nee...                       \n",
       "12  Reputation of the company - well known and int...                       \n",
       "13                            Price- attractive price                       \n",
       "14                                                NaN                       \n",
       "15  Loyalty programme- attractive rewards for loya...                       \n",
       "16  Customer service  attentive to particular nee...                       \n",
       "17  Reputation of the company - well known and int...                       \n",
       "18  Customer service  attentive to particular nee...                       \n",
       "19  Reputation of the company - well known and int...                       \n",
       "\n",
       "   What media or source do you often use to search for banking service?  \\\n",
       "0                                            Internet                     \n",
       "1                                            Internet                     \n",
       "2                                            Internet                     \n",
       "3                                            Internet                     \n",
       "4                                            Internet                     \n",
       "5                                 Friends & relatives                     \n",
       "6                                            Internet                     \n",
       "7                                            Internet                     \n",
       "8                                            Internet                     \n",
       "9                                            Internet                     \n",
       "10                                           Internet                     \n",
       "11                                         Television                     \n",
       "12                                Friends & relatives                     \n",
       "13                                           Internet                     \n",
       "14                                           Internet                     \n",
       "15                                           Internet                     \n",
       "16                                           Internet                     \n",
       "17                                           Internet                     \n",
       "18                                           Internet                     \n",
       "19                                Friends & relatives                     \n",
       "\n",
       "   Do attractive prices of banking service attract you?  \\\n",
       "0                                               Agree     \n",
       "1                                               Agree     \n",
       "2                                               Agree     \n",
       "3                                               Agree     \n",
       "4                                               Agree     \n",
       "5                                            Disagree     \n",
       "6                                               Agree     \n",
       "7                                               Agree     \n",
       "8                                               Agree     \n",
       "9                                      Strongly agree     \n",
       "10                                     Strongly agree     \n",
       "11                                              Agree     \n",
       "12                                              Agree     \n",
       "13                                     Strongly agree     \n",
       "14                                              Agree     \n",
       "15                                  Strongly Disagree     \n",
       "16                                              Agree     \n",
       "17                                     Strongly agree     \n",
       "18                                              Agree     \n",
       "19                                              Agree     \n",
       "\n",
       "   Will you comport by using banking services considering the great experience and quality of service?  \\\n",
       "0                                              Likely                                                    \n",
       "1                                              Likely                                                    \n",
       "2                                              Likely                                                    \n",
       "3                                              Likely                                                    \n",
       "4                                              Likely                                                    \n",
       "5                                              Likely                                                    \n",
       "6                                         Very likely                                                    \n",
       "7                                              Likely                                                    \n",
       "8                                              Likely                                                    \n",
       "9                                         Very likely                                                    \n",
       "10                                             Likely                                                    \n",
       "11                                             Likely                                                    \n",
       "12                                        Very likely                                                    \n",
       "13                                        Very likely                                                    \n",
       "14                                             Likely                                                    \n",
       "15                                        Very likely                                                    \n",
       "16                                             Likely                                                    \n",
       "17                                             Likely                                                    \n",
       "18                                             Likely                                                    \n",
       "19                                             Likely                                                    \n",
       "\n",
       "   Describe the overall state of relations between Nepalese banking and its customers.  \\\n",
       "0                                                Good                                    \n",
       "1                                                Good                                    \n",
       "2                                           Very good                                    \n",
       "3                                                Fair                                    \n",
       "4                                                Fair                                    \n",
       "5                                                Poor                                    \n",
       "6                                           Very good                                    \n",
       "7                                                Fair                                    \n",
       "8                                                Good                                    \n",
       "9                                                Fair                                    \n",
       "10                                               Good                                    \n",
       "11                                               Fair                                    \n",
       "12                                               Good                                    \n",
       "13                                               Poor                                    \n",
       "14                                               Fair                                    \n",
       "15                                               Good                                    \n",
       "16                                               Fair                                    \n",
       "17                                               Good                                    \n",
       "18                                               Good                                    \n",
       "19                                          Very good                                    \n",
       "\n",
       "   Rate the degree of impact customer service has on corporate reputation.  \\\n",
       "0                                               A lot                        \n",
       "1                                               A lot                        \n",
       "2                                        Not too much                        \n",
       "3                                               A lot                        \n",
       "4                                            A little                        \n",
       "5                                            A little                        \n",
       "6                                        Not too much                        \n",
       "7                                            A little                        \n",
       "8                                            A little                        \n",
       "9                                        Not too much                        \n",
       "10                                       Not too much                        \n",
       "11                                           A little                        \n",
       "12                                       Not too much                        \n",
       "13                                              A lot                        \n",
       "14                                       Not too much                        \n",
       "15                                           A little                        \n",
       "16                                       Not too much                        \n",
       "17                                           A little                        \n",
       "18                                           A little                        \n",
       "19                                           A little                        \n",
       "\n",
       "   How would you rate customer satisfaction at Nepalese banking?  \\\n",
       "0                                    Fairly satisfied              \n",
       "1                                           Satisfied              \n",
       "2                                    Fairly satisfied              \n",
       "3                                    Fairly satisfied              \n",
       "4                                    Fairly satisfied              \n",
       "5                                    Fairly satisfied              \n",
       "6                                           Satisfied              \n",
       "7                                    Fairly satisfied              \n",
       "8                                    Fairly satisfied              \n",
       "9                                    Fairly satisfied              \n",
       "10                                          Satisfied              \n",
       "11                                          Satisfied              \n",
       "12                                   Fairly satisfied              \n",
       "13                                      Not satisfied              \n",
       "14                                   Fairly satisfied              \n",
       "15                                          Satisfied              \n",
       "16                                   Fairly satisfied              \n",
       "17                                          Satisfied              \n",
       "18                                          Satisfied              \n",
       "19                                      Not satisfied              \n",
       "\n",
       "   How would you rate the effectiveness of Nepalese banking CRM?  \\\n",
       "0                                    Fairly effective              \n",
       "1                                           Effective              \n",
       "2                                    Fairly effective              \n",
       "3                                    Fairly effective              \n",
       "4                                    Fairly effective              \n",
       "5                                    Fairly effective              \n",
       "6                                    Fairly effective              \n",
       "7                                    Fairly effective              \n",
       "8                                    Fairly effective              \n",
       "9                                    Fairly effective              \n",
       "10                                          Effective              \n",
       "11                                   Fairly effective              \n",
       "12                                   Fairly effective              \n",
       "13                                      Not effective              \n",
       "14                                   Fairly effective              \n",
       "15                                          Effective              \n",
       "16                                   Fairly effective              \n",
       "17                                          Effective              \n",
       "18                                          Effective              \n",
       "19                                          Effective              \n",
       "\n",
       "   How does Nepalese banking to any of your requests and complaints?  \\\n",
       "0   Employees take too long to respond to your que...                  \n",
       "1   Employees take too long to respond to your que...                  \n",
       "2      Employees respond your queries professionally.                  \n",
       "3   Employees take too long to respond to your que...                  \n",
       "4      Employees respond your queries professionally.                  \n",
       "5   Employees take too long to respond to your que...                  \n",
       "6   Employees take too long to respond to your que...                  \n",
       "7      Employees respond your queries professionally.                  \n",
       "8   Employees take too long to respond to your que...                  \n",
       "9      Employees respond your queries professionally.                  \n",
       "10     Employees respond your queries professionally.                  \n",
       "11  Employees take too long to respond to your que...                  \n",
       "12     Employees respond your queries professionally.                  \n",
       "13     Employees respond your queries professionally.                  \n",
       "14     Employees respond your queries professionally.                  \n",
       "15  Employees take too long to respond to your que...                  \n",
       "16  Employees take too long to respond to your que...                  \n",
       "17     Employees respond your queries professionally.                  \n",
       "18  Employees take too long to respond to your que...                  \n",
       "19  Employees take too long to respond to your que...                  \n",
       "\n",
       "   How would you describe Nepalese banking strategy with regards to CRM?  \\\n",
       "0                                           Effective                      \n",
       "1                                           Effective                      \n",
       "2                                    Fairly effective                      \n",
       "3                                           Effective                      \n",
       "4                                           Effective                      \n",
       "5                                    Fairly effective                      \n",
       "6                                           Effective                      \n",
       "7                                    Fairly effective                      \n",
       "8                                    Fairly effective                      \n",
       "9                                    Fairly effective                      \n",
       "10                                          Effective                      \n",
       "11                                           Option 5                      \n",
       "12                                   Fairly effective                      \n",
       "13                                   Fairly effective                      \n",
       "14                                   Fairly effective                      \n",
       "15                                          Effective                      \n",
       "16                                          Effective                      \n",
       "17                                   Fairly effective                      \n",
       "18                                   Fairly effective                      \n",
       "19                                          Effective                      \n",
       "\n",
       "   Lastly, will you recommend Nepalese banking service to others?  \n",
       "0                                              Likely              \n",
       "1                                              Likely              \n",
       "2                                              Likely              \n",
       "3                                              Likely              \n",
       "4                                              Likely              \n",
       "5                                              Likely              \n",
       "6                                              Likely              \n",
       "7                                              Likely              \n",
       "8                                              Likely              \n",
       "9                                              Likely              \n",
       "10                                        Very likely              \n",
       "11                                             Likely              \n",
       "12                                             Likely              \n",
       "13                                      Very unlikely              \n",
       "14                                             Likely              \n",
       "15                                             Likely              \n",
       "16                                             Likely              \n",
       "17                                             Likely              \n",
       "18                                             Likely              \n",
       "19                                             Likely              "
      ]
     },
     "execution_count": 5,
     "metadata": {},
     "output_type": "execute_result"
    }
   ],
   "source": [
    "df.loc[:20]"
   ]
  },
  {
   "cell_type": "code",
   "execution_count": 6,
   "metadata": {},
   "outputs": [],
   "source": [
    "# print(\"Question asked : \\n\" , list(df.columns))"
   ]
  },
  {
   "cell_type": "code",
   "execution_count": null,
   "metadata": {},
   "outputs": [],
   "source": []
  },
  {
   "cell_type": "code",
   "execution_count": 7,
   "metadata": {},
   "outputs": [
    {
     "name": "stdout",
     "output_type": "stream",
     "text": [
      "Total Number of question asked:  16\n"
     ]
    }
   ],
   "source": [
    "print(\"Total Number of question asked: \",len(df.columns) )"
   ]
  },
  {
   "cell_type": "code",
   "execution_count": 8,
   "metadata": {},
   "outputs": [],
   "source": [
    "# Gender distirbution of respondents"
   ]
  },
  {
   "cell_type": "code",
   "execution_count": 9,
   "metadata": {},
   "outputs": [],
   "source": [
    "import seaborn as sns\n",
    "import matplotlib.pyplot as plt"
   ]
  },
  {
   "cell_type": "code",
   "execution_count": 10,
   "metadata": {},
   "outputs": [
    {
     "data": {
      "text/plain": [
       "['Female', 'Male']"
      ]
     },
     "execution_count": 10,
     "metadata": {},
     "output_type": "execute_result"
    }
   ],
   "source": [
    "# Types of gender asked\n",
    "list(df.Gender.unique())"
   ]
  },
  {
   "cell_type": "code",
   "execution_count": 11,
   "metadata": {},
   "outputs": [
    {
     "data": {
      "text/plain": [
       "Male      12\n",
       "Female     8\n",
       "Name: Gender, dtype: int64"
      ]
     },
     "execution_count": 11,
     "metadata": {},
     "output_type": "execute_result"
    }
   ],
   "source": [
    "df['Gender'].value_counts()"
   ]
  },
  {
   "cell_type": "code",
   "execution_count": 12,
   "metadata": {},
   "outputs": [],
   "source": [
    "# fig, ax1 = plt.subplots(figsize=(10,5))\n",
    "\n",
    "# by_gender = df.groupby('Gender')\n",
    "# by_gender.size().plot(kind='bar',color=['r','y'])"
   ]
  },
  {
   "cell_type": "code",
   "execution_count": 13,
   "metadata": {},
   "outputs": [],
   "source": [
    "import numpy as np\n",
    "def percent(df):\n",
    "    data = df.Frequency\n",
    "    series = data *100 / data.sum()\n",
    "    return series\n",
    "\n",
    "def Cumulative(lists): \n",
    "#     cu_list = [] \n",
    "#     length = len(lists)\n",
    "#     print(length)\n",
    "#     print(lists)\n",
    "    cu_list = list(np.cumsum(lists))\n",
    "    return cu_list "
   ]
  },
  {
   "cell_type": "code",
   "execution_count": 14,
   "metadata": {},
   "outputs": [],
   "source": [
    "gen = df['Gender'].value_counts().to_frame(name=\"Frequency\")\n",
    "gen['Cumulative Frequency'] = Cumulative(list(gen['Frequency'].values))\n",
    "gen['Percent'] = percent(gen)\n",
    "gen['Cumulative Percent'] = Cumulative(list(gen['Percent'].values))\n",
    "gen.index.names = ['Gender']"
   ]
  },
  {
   "cell_type": "code",
   "execution_count": 15,
   "metadata": {},
   "outputs": [
    {
     "data": {
      "text/html": [
       "<div>\n",
       "<style scoped>\n",
       "    .dataframe tbody tr th:only-of-type {\n",
       "        vertical-align: middle;\n",
       "    }\n",
       "\n",
       "    .dataframe tbody tr th {\n",
       "        vertical-align: top;\n",
       "    }\n",
       "\n",
       "    .dataframe thead th {\n",
       "        text-align: right;\n",
       "    }\n",
       "</style>\n",
       "<table border=\"1\" class=\"dataframe\">\n",
       "  <thead>\n",
       "    <tr style=\"text-align: right;\">\n",
       "      <th></th>\n",
       "      <th>Frequency</th>\n",
       "      <th>Cumulative Frequency</th>\n",
       "      <th>Percent</th>\n",
       "      <th>Cumulative Percent</th>\n",
       "    </tr>\n",
       "    <tr>\n",
       "      <th>Gender</th>\n",
       "      <th></th>\n",
       "      <th></th>\n",
       "      <th></th>\n",
       "      <th></th>\n",
       "    </tr>\n",
       "  </thead>\n",
       "  <tbody>\n",
       "    <tr>\n",
       "      <td>Male</td>\n",
       "      <td>12</td>\n",
       "      <td>12</td>\n",
       "      <td>60.0</td>\n",
       "      <td>60.0</td>\n",
       "    </tr>\n",
       "    <tr>\n",
       "      <td>Female</td>\n",
       "      <td>8</td>\n",
       "      <td>20</td>\n",
       "      <td>40.0</td>\n",
       "      <td>100.0</td>\n",
       "    </tr>\n",
       "  </tbody>\n",
       "</table>\n",
       "</div>"
      ],
      "text/plain": [
       "        Frequency  Cumulative Frequency  Percent  Cumulative Percent\n",
       "Gender                                                              \n",
       "Male           12                    12     60.0                60.0\n",
       "Female          8                    20     40.0               100.0"
      ]
     },
     "execution_count": 15,
     "metadata": {},
     "output_type": "execute_result"
    }
   ],
   "source": [
    "gen"
   ]
  },
  {
   "cell_type": "code",
   "execution_count": 16,
   "metadata": {},
   "outputs": [],
   "source": [
    "# gen['Percent'].values"
   ]
  },
  {
   "cell_type": "code",
   "execution_count": 17,
   "metadata": {},
   "outputs": [
    {
     "data": {
      "text/plain": [
       "(0, 20)"
      ]
     },
     "execution_count": 17,
     "metadata": {},
     "output_type": "execute_result"
    },
    {
     "data": {
      "image/png": "[encoded data removed]",
      "text/plain": [
       "<Figure size 720x360 with 1 Axes>"
      ]
     },
     "metadata": {
      "needs_background": "light"
     },
     "output_type": "display_data"
    }
   ],
   "source": [
    "df1 = df.groupby('Gender').size().to_frame(name=\"values\")\n",
    "import random\n",
    "# Plot Bars\n",
    "plt.figure(figsize=(10,5))\n",
    "plt.bar(df1.index, [i[0] for i in df1.values.tolist() ],color=['r','y'])\n",
    "for i, val in enumerate(df1.values):\n",
    "    plt.text(i, val, float(val), horizontalalignment='center', verticalalignment='bottom', fontdict={'fontweight':500, 'size':12})\n",
    "\n",
    "# Decoration\n",
    "plt.gca().set_xticklabels(df1.index, rotation=60, horizontalalignment= 'right')\n",
    "plt.title(\"Gender\", fontsize=12)\n",
    "plt.ylabel('Value')\n",
    "plt.ylim(0, 20)"
   ]
  },
  {
   "cell_type": "markdown",
   "metadata": {},
   "source": [
    "Agegroup table"
   ]
  },
  {
   "cell_type": "code",
   "execution_count": 18,
   "metadata": {},
   "outputs": [
    {
     "data": {
      "text/html": [
       "<div>\n",
       "<style scoped>\n",
       "    .dataframe tbody tr th:only-of-type {\n",
       "        vertical-align: middle;\n",
       "    }\n",
       "\n",
       "    .dataframe tbody tr th {\n",
       "        vertical-align: top;\n",
       "    }\n",
       "\n",
       "    .dataframe thead th {\n",
       "        text-align: right;\n",
       "    }\n",
       "</style>\n",
       "<table border=\"1\" class=\"dataframe\">\n",
       "  <thead>\n",
       "    <tr style=\"text-align: right;\">\n",
       "      <th></th>\n",
       "      <th>Frequency</th>\n",
       "      <th>Cumulative Frequency</th>\n",
       "      <th>Percent</th>\n",
       "      <th>Cumulative Percent</th>\n",
       "    </tr>\n",
       "    <tr>\n",
       "      <th>What is your age group?</th>\n",
       "      <th></th>\n",
       "      <th></th>\n",
       "      <th></th>\n",
       "      <th></th>\n",
       "    </tr>\n",
       "  </thead>\n",
       "  <tbody>\n",
       "    <tr>\n",
       "      <td>21 - 30 years old</td>\n",
       "      <td>19</td>\n",
       "      <td>19</td>\n",
       "      <td>95.0</td>\n",
       "      <td>95.0</td>\n",
       "    </tr>\n",
       "    <tr>\n",
       "      <td>41 - 50 years old</td>\n",
       "      <td>1</td>\n",
       "      <td>20</td>\n",
       "      <td>5.0</td>\n",
       "      <td>100.0</td>\n",
       "    </tr>\n",
       "  </tbody>\n",
       "</table>\n",
       "</div>"
      ],
      "text/plain": [
       "                         Frequency  Cumulative Frequency  Percent  \\\n",
       "What is your age group?                                             \n",
       "21 - 30 years old               19                    19     95.0   \n",
       "41 - 50 years old                1                    20      5.0   \n",
       "\n",
       "                         Cumulative Percent  \n",
       "What is your age group?                      \n",
       "21 - 30 years old                      95.0  \n",
       "41 - 50 years old                     100.0  "
      ]
     },
     "execution_count": 18,
     "metadata": {},
     "output_type": "execute_result"
    }
   ],
   "source": [
    "age_group = df['What is your age group?'].value_counts().to_frame(name=\"Frequency\")\n",
    "age_group['Cumulative Frequency'] = Cumulative(list(age_group['Frequency'].values))\n",
    "age_group['Percent'] = percent(age_group)\n",
    "age_group['Cumulative Percent'] = Cumulative(list(age_group['Percent'].values))\n",
    "age_group.index.names = ['What is your age group?']\n",
    "age_group"
   ]
  },
  {
   "cell_type": "code",
   "execution_count": 19,
   "metadata": {},
   "outputs": [],
   "source": [
    "# df['What is your age group?'].value_counts()"
   ]
  },
  {
   "cell_type": "code",
   "execution_count": 20,
   "metadata": {},
   "outputs": [],
   "source": [
    "# fig, ax1 = plt.subplots(figsize=(10,5))\n",
    "# df.groupby('What is your age group?').size().plot(kind='bar',color=['y','violet'])"
   ]
  },
  {
   "cell_type": "code",
   "execution_count": 21,
   "metadata": {},
   "outputs": [
    {
     "data": {
      "text/plain": [
       "(0, 20)"
      ]
     },
     "execution_count": 21,
     "metadata": {},
     "output_type": "execute_result"
    },
    {
     "data": {
      "image/png": "[encoded data removed]",
      "text/plain": [
       "<Figure size 720x360 with 1 Axes>"
      ]
     },
     "metadata": {
      "needs_background": "light"
     },
     "output_type": "display_data"
    }
   ],
   "source": [
    "df1 = df.groupby('What is your age group?').size().to_frame(name=\"values\")\n",
    "import random\n",
    "n = df['What is your age group?'].unique().__len__()+1\n",
    "all_colors = list(plt.cm.colors.cnames.keys())\n",
    "random.seed(5)\n",
    "c = random.choices(all_colors, k=n)\n",
    "# Plot Bars\n",
    "plt.figure(figsize=(10,5))\n",
    "plt.bar(df1.index, [i[0] for i in df1.values.tolist() ],color=c)\n",
    "for i, val in enumerate(df1.values):\n",
    "    plt.text(i, val, float(val), horizontalalignment='center', verticalalignment='bottom', fontdict={'fontweight':500, 'size':12})\n",
    "\n",
    "# Decoration\n",
    "plt.gca().set_xticklabels(df1.index, rotation=60, horizontalalignment= 'right')\n",
    "plt.title(\"What is your age group\", fontsize=12)\n",
    "plt.ylabel('Value')\n",
    "plt.ylim(0, 20)"
   ]
  },
  {
   "cell_type": "code",
   "execution_count": 22,
   "metadata": {},
   "outputs": [
    {
     "data": {
      "image/png": "[encoded data removed]",
      "text/plain": [
       "<Figure size 800x800 with 1 Axes>"
      ]
     },
     "metadata": {},
     "output_type": "display_data"
    }
   ],
   "source": [
    "fig, ax1 = plt.subplots(figsize=(10,10), dpi= 80)\n",
    "\n",
    "explode = (0, 0.2)  # only \"explode\" the 2nd slice (i.e. 'Hogs')\n",
    "ax1.pie(df['What is your age group?'].value_counts().values, explode=explode, labels=df['What is your age group?'].value_counts().index, autopct='%1.1f%%',\n",
    "        shadow=True, startangle=90)\n",
    "ax1.axis('equal')  # Equal aspect ratio ensures that pie is drawn as a circle.\n",
    "ax1.set_title(\"What is your age group?: Pie Chart\")\n",
    "plt.show()"
   ]
  },
  {
   "cell_type": "code",
   "execution_count": null,
   "metadata": {},
   "outputs": [],
   "source": []
  },
  {
   "cell_type": "code",
   "execution_count": 23,
   "metadata": {},
   "outputs": [
    {
     "data": {
      "text/plain": [
       "Students     17\n",
       "Others        2\n",
       "Technical     1\n",
       "Name: What is your occupation?   , dtype: int64"
      ]
     },
     "execution_count": 23,
     "metadata": {},
     "output_type": "execute_result"
    }
   ],
   "source": [
    "df['What is your occupation?   '].value_counts()"
   ]
  },
  {
   "cell_type": "code",
   "execution_count": 24,
   "metadata": {},
   "outputs": [
    {
     "data": {
      "text/html": [
       "<div>\n",
       "<style scoped>\n",
       "    .dataframe tbody tr th:only-of-type {\n",
       "        vertical-align: middle;\n",
       "    }\n",
       "\n",
       "    .dataframe tbody tr th {\n",
       "        vertical-align: top;\n",
       "    }\n",
       "\n",
       "    .dataframe thead th {\n",
       "        text-align: right;\n",
       "    }\n",
       "</style>\n",
       "<table border=\"1\" class=\"dataframe\">\n",
       "  <thead>\n",
       "    <tr style=\"text-align: right;\">\n",
       "      <th></th>\n",
       "      <th>Frequency</th>\n",
       "      <th>Cumulative Frequency</th>\n",
       "      <th>Percent</th>\n",
       "      <th>Cumulative Percent</th>\n",
       "    </tr>\n",
       "    <tr>\n",
       "      <th>What is your occupation?</th>\n",
       "      <th></th>\n",
       "      <th></th>\n",
       "      <th></th>\n",
       "      <th></th>\n",
       "    </tr>\n",
       "  </thead>\n",
       "  <tbody>\n",
       "    <tr>\n",
       "      <td>Students</td>\n",
       "      <td>17</td>\n",
       "      <td>17</td>\n",
       "      <td>85.0</td>\n",
       "      <td>85.0</td>\n",
       "    </tr>\n",
       "    <tr>\n",
       "      <td>Others</td>\n",
       "      <td>2</td>\n",
       "      <td>19</td>\n",
       "      <td>10.0</td>\n",
       "      <td>95.0</td>\n",
       "    </tr>\n",
       "    <tr>\n",
       "      <td>Technical</td>\n",
       "      <td>1</td>\n",
       "      <td>20</td>\n",
       "      <td>5.0</td>\n",
       "      <td>100.0</td>\n",
       "    </tr>\n",
       "  </tbody>\n",
       "</table>\n",
       "</div>"
      ],
      "text/plain": [
       "                             Frequency  Cumulative Frequency  Percent  \\\n",
       "What is your occupation?                                                \n",
       "Students                            17                    17     85.0   \n",
       "Others                               2                    19     10.0   \n",
       "Technical                            1                    20      5.0   \n",
       "\n",
       "                             Cumulative Percent  \n",
       "What is your occupation?                         \n",
       "Students                                   85.0  \n",
       "Others                                     95.0  \n",
       "Technical                                 100.0  "
      ]
     },
     "execution_count": 24,
     "metadata": {},
     "output_type": "execute_result"
    }
   ],
   "source": [
    "occ = df['What is your occupation?   '].value_counts().to_frame(name=\"Frequency\")\n",
    "occ['Cumulative Frequency'] = Cumulative(list(occ['Frequency'].values))\n",
    "occ['Percent'] = percent(occ)\n",
    "occ['Cumulative Percent'] = Cumulative(list(occ['Percent'].values))\n",
    "occ.index.names = ['What is your occupation?   ']\n",
    "occ"
   ]
  },
  {
   "cell_type": "code",
   "execution_count": null,
   "metadata": {},
   "outputs": [],
   "source": []
  },
  {
   "cell_type": "code",
   "execution_count": 25,
   "metadata": {},
   "outputs": [
    {
     "data": {
      "text/plain": [
       "(0, 20)"
      ]
     },
     "execution_count": 25,
     "metadata": {},
     "output_type": "execute_result"
    },
    {
     "data": {
      "image/png": "[encoded data removed]",
      "text/plain": [
       "<Figure size 720x360 with 1 Axes>"
      ]
     },
     "metadata": {
      "needs_background": "light"
     },
     "output_type": "display_data"
    }
   ],
   "source": [
    "df1 = df.groupby('What is your occupation?   ').size().to_frame(name=\"values\")\n",
    "# import random\n",
    "# n = df['What is your occupation?   '].unique().__len__()+1\n",
    "# all_colors = list(plt.cm.colors.cnames.keys())\n",
    "# random.seed(100)\n",
    "# c = random.choices(all_colors, k=n)\n",
    "# Plot Bars\n",
    "plt.figure(figsize=(10,5))\n",
    "plt.bar(df1.index, [i[0] for i in df1.values.tolist() ],color=['r','g','b'])\n",
    "for i, val in enumerate(df1.values):\n",
    "    plt.text(i, val, float(val), horizontalalignment='center', verticalalignment='bottom', fontdict={'fontweight':500, 'size':12})\n",
    "\n",
    "# Decoration\n",
    "plt.gca().set_xticklabels(df1.index, rotation=60, horizontalalignment= 'right')\n",
    "plt.title(\"What is your occupation?   \", fontsize=12)\n",
    "plt.ylabel('Value')\n",
    "plt.ylim(0, 20)"
   ]
  },
  {
   "cell_type": "code",
   "execution_count": 26,
   "metadata": {},
   "outputs": [
    {
     "data": {
      "image/png": "[encoded data removed]",
      "text/plain": [
       "<Figure size 800x800 with 1 Axes>"
      ]
     },
     "metadata": {},
     "output_type": "display_data"
    }
   ],
   "source": [
    "fig, ax1 = plt.subplots(figsize=(10,10), dpi= 80)\n",
    "explode = (0.1, 0.1,0.1)  # only \"explode\" the 2nd slice (i.e. 'Hogs')\n",
    "ax1.pie(df['What is your occupation?   '].value_counts().values, explode=explode, labels=df['What is your occupation?   '].value_counts().index, autopct='%1.1f%%',\n",
    "        shadow=True, startangle=90)\n",
    "ax1.axis('equal')  # Equal aspect ratio ensures that pie is drawn as a circle.\n",
    "ax1.set_title(\"What is your occupation?: Pie Chart\")\n",
    "plt.show()"
   ]
  },
  {
   "cell_type": "code",
   "execution_count": 27,
   "metadata": {},
   "outputs": [],
   "source": [
    "# 'What is your monthly income level?'"
   ]
  },
  {
   "cell_type": "code",
   "execution_count": 28,
   "metadata": {},
   "outputs": [
    {
     "data": {
      "text/html": [
       "<div>\n",
       "<style scoped>\n",
       "    .dataframe tbody tr th:only-of-type {\n",
       "        vertical-align: middle;\n",
       "    }\n",
       "\n",
       "    .dataframe tbody tr th {\n",
       "        vertical-align: top;\n",
       "    }\n",
       "\n",
       "    .dataframe thead th {\n",
       "        text-align: right;\n",
       "    }\n",
       "</style>\n",
       "<table border=\"1\" class=\"dataframe\">\n",
       "  <thead>\n",
       "    <tr style=\"text-align: right;\">\n",
       "      <th></th>\n",
       "      <th>Frequency</th>\n",
       "      <th>Cumulative Frequency</th>\n",
       "      <th>Percent</th>\n",
       "      <th>Cumulative Percent</th>\n",
       "    </tr>\n",
       "    <tr>\n",
       "      <th>What is your monthly income level?</th>\n",
       "      <th></th>\n",
       "      <th></th>\n",
       "      <th></th>\n",
       "      <th></th>\n",
       "    </tr>\n",
       "  </thead>\n",
       "  <tbody>\n",
       "    <tr>\n",
       "      <td>£500- £1000</td>\n",
       "      <td>10</td>\n",
       "      <td>10</td>\n",
       "      <td>90.909091</td>\n",
       "      <td>90.909091</td>\n",
       "    </tr>\n",
       "    <tr>\n",
       "      <td>£1000 - £1500</td>\n",
       "      <td>1</td>\n",
       "      <td>11</td>\n",
       "      <td>9.090909</td>\n",
       "      <td>100.000000</td>\n",
       "    </tr>\n",
       "  </tbody>\n",
       "</table>\n",
       "</div>"
      ],
      "text/plain": [
       "                                    Frequency  Cumulative Frequency  \\\n",
       "What is your monthly income level?                                    \n",
       "£500- £1000                                10                    10   \n",
       "£1000 - £1500                               1                    11   \n",
       "\n",
       "                                      Percent  Cumulative Percent  \n",
       "What is your monthly income level?                                 \n",
       "£500- £1000                         90.909091           90.909091  \n",
       "£1000 - £1500                        9.090909          100.000000  "
      ]
     },
     "execution_count": 28,
     "metadata": {},
     "output_type": "execute_result"
    }
   ],
   "source": [
    "sdf = df['What is your monthly income level?'].value_counts().to_frame(name=\"Frequency\")\n",
    "sdf['Cumulative Frequency'] = Cumulative(list(sdf['Frequency'].values))\n",
    "sdf['Percent'] = percent(sdf)\n",
    "sdf['Cumulative Percent'] = Cumulative(list(sdf['Percent'].values))\n",
    "sdf.index.names = ['What is your monthly income level?']\n",
    "sdf"
   ]
  },
  {
   "cell_type": "code",
   "execution_count": 29,
   "metadata": {},
   "outputs": [
    {
     "data": {
      "image/png": "[encoded data removed]",
      "text/plain": [
       "<Figure size 480x800 with 1 Axes>"
      ]
     },
     "metadata": {},
     "output_type": "display_data"
    }
   ],
   "source": [
    "fig, ax1 = plt.subplots(figsize=(6,10), dpi= 80)\n",
    "\n",
    "ax1.pie(df['What is your monthly income level?'].value_counts().values, labels=df['What is your monthly income level?'].value_counts().index, autopct='%1.1f%%',\n",
    "        shadow=True, startangle=90)\n",
    "ax1.axis('equal')  # Equal aspect ratio ensures that pie is drawn as a circle.\n",
    "ax1.set_title(\"What is your monthly income level?: Pie Chart\")\n",
    "\n",
    "plt.show()"
   ]
  },
  {
   "cell_type": "markdown",
   "metadata": {},
   "source": [
    "Civil status"
   ]
  },
  {
   "cell_type": "code",
   "execution_count": 30,
   "metadata": {},
   "outputs": [
    {
     "data": {
      "text/html": [
       "<div>\n",
       "<style scoped>\n",
       "    .dataframe tbody tr th:only-of-type {\n",
       "        vertical-align: middle;\n",
       "    }\n",
       "\n",
       "    .dataframe tbody tr th {\n",
       "        vertical-align: top;\n",
       "    }\n",
       "\n",
       "    .dataframe thead th {\n",
       "        text-align: right;\n",
       "    }\n",
       "</style>\n",
       "<table border=\"1\" class=\"dataframe\">\n",
       "  <thead>\n",
       "    <tr style=\"text-align: right;\">\n",
       "      <th></th>\n",
       "      <th>Frequency</th>\n",
       "      <th>Cumulative Frequency</th>\n",
       "      <th>Percent</th>\n",
       "      <th>Cumulative Percent</th>\n",
       "    </tr>\n",
       "    <tr>\n",
       "      <th>What is your civil Status?</th>\n",
       "      <th></th>\n",
       "      <th></th>\n",
       "      <th></th>\n",
       "      <th></th>\n",
       "    </tr>\n",
       "  </thead>\n",
       "  <tbody>\n",
       "    <tr>\n",
       "      <td>Single</td>\n",
       "      <td>18</td>\n",
       "      <td>18</td>\n",
       "      <td>90.0</td>\n",
       "      <td>90.0</td>\n",
       "    </tr>\n",
       "    <tr>\n",
       "      <td>Married</td>\n",
       "      <td>2</td>\n",
       "      <td>20</td>\n",
       "      <td>10.0</td>\n",
       "      <td>100.0</td>\n",
       "    </tr>\n",
       "  </tbody>\n",
       "</table>\n",
       "</div>"
      ],
      "text/plain": [
       "                            Frequency  Cumulative Frequency  Percent  \\\n",
       "What is your civil Status?                                             \n",
       "Single                             18                    18     90.0   \n",
       "Married                             2                    20     10.0   \n",
       "\n",
       "                            Cumulative Percent  \n",
       "What is your civil Status?                      \n",
       "Single                                    90.0  \n",
       "Married                                  100.0  "
      ]
     },
     "execution_count": 30,
     "metadata": {},
     "output_type": "execute_result"
    }
   ],
   "source": [
    "sdf = df['What is your civil Status?'].value_counts().to_frame(name=\"Frequency\")\n",
    "sdf['Cumulative Frequency'] = Cumulative(list(sdf['Frequency'].values))\n",
    "sdf['Percent'] = percent(sdf)\n",
    "sdf['Cumulative Percent'] = Cumulative(list(sdf['Percent'].values))\n",
    "sdf.index.names = ['What is your civil Status?']\n",
    "sdf"
   ]
  },
  {
   "cell_type": "code",
   "execution_count": 31,
   "metadata": {},
   "outputs": [
    {
     "data": {
      "text/plain": [
       "What is your civil Status?\n",
       "Married     2\n",
       "Single     18\n",
       "dtype: int64"
      ]
     },
     "execution_count": 31,
     "metadata": {},
     "output_type": "execute_result"
    }
   ],
   "source": [
    "df.groupby('What is your civil Status?').size()"
   ]
  },
  {
   "cell_type": "code",
   "execution_count": 32,
   "metadata": {},
   "outputs": [],
   "source": [
    "# 2 married 18 singles"
   ]
  },
  {
   "cell_type": "code",
   "execution_count": 33,
   "metadata": {},
   "outputs": [],
   "source": [
    "# bank_service_factor = df.groupby('What factors do you consider while selecting the banking for services?').size().to_frame(name=\"vals\")"
   ]
  },
  {
   "cell_type": "code",
   "execution_count": 34,
   "metadata": {},
   "outputs": [],
   "source": [
    "# bank_service_factor.sort_values(by='vals',ascending=False,inplace = True)"
   ]
  },
  {
   "cell_type": "code",
   "execution_count": 35,
   "metadata": {},
   "outputs": [],
   "source": [
    "# bank_service_factor['Percentage'] = bank_service_factor.vals *100 / bank_service_factor.vals.sum()"
   ]
  },
  {
   "cell_type": "code",
   "execution_count": 36,
   "metadata": {},
   "outputs": [],
   "source": [
    "# bank_service_factor"
   ]
  },
  {
   "cell_type": "code",
   "execution_count": 37,
   "metadata": {},
   "outputs": [
    {
     "data": {
      "text/html": [
       "<div>\n",
       "<style scoped>\n",
       "    .dataframe tbody tr th:only-of-type {\n",
       "        vertical-align: middle;\n",
       "    }\n",
       "\n",
       "    .dataframe tbody tr th {\n",
       "        vertical-align: top;\n",
       "    }\n",
       "\n",
       "    .dataframe thead th {\n",
       "        text-align: right;\n",
       "    }\n",
       "</style>\n",
       "<table border=\"1\" class=\"dataframe\">\n",
       "  <thead>\n",
       "    <tr style=\"text-align: right;\">\n",
       "      <th></th>\n",
       "      <th>Frequency</th>\n",
       "      <th>Cumulative Frequency</th>\n",
       "      <th>Percent</th>\n",
       "      <th>Cumulative Percent</th>\n",
       "    </tr>\n",
       "    <tr>\n",
       "      <th>What factors do you consider while selecting the banking for services?</th>\n",
       "      <th></th>\n",
       "      <th></th>\n",
       "      <th></th>\n",
       "      <th></th>\n",
       "    </tr>\n",
       "  </thead>\n",
       "  <tbody>\n",
       "    <tr>\n",
       "      <td>Customer service  attentive to particular needs &amp; requests and less waiting time</td>\n",
       "      <td>9</td>\n",
       "      <td>9</td>\n",
       "      <td>47.368421</td>\n",
       "      <td>47.368421</td>\n",
       "    </tr>\n",
       "    <tr>\n",
       "      <td>Reputation of the company - well known and internationally recognised</td>\n",
       "      <td>7</td>\n",
       "      <td>16</td>\n",
       "      <td>36.842105</td>\n",
       "      <td>84.210526</td>\n",
       "    </tr>\n",
       "    <tr>\n",
       "      <td>Loyalty programme- attractive rewards for loyal customers</td>\n",
       "      <td>2</td>\n",
       "      <td>18</td>\n",
       "      <td>10.526316</td>\n",
       "      <td>94.736842</td>\n",
       "    </tr>\n",
       "    <tr>\n",
       "      <td>Price- attractive price</td>\n",
       "      <td>1</td>\n",
       "      <td>19</td>\n",
       "      <td>5.263158</td>\n",
       "      <td>100.000000</td>\n",
       "    </tr>\n",
       "  </tbody>\n",
       "</table>\n",
       "</div>"
      ],
      "text/plain": [
       "                                                    Frequency  \\\n",
       "What factors do you consider while selecting th...              \n",
       "Customer service  attentive to particular need...          9   \n",
       "Reputation of the company - well known and inte...          7   \n",
       "Loyalty programme- attractive rewards for loyal...          2   \n",
       "Price- attractive price                                     1   \n",
       "\n",
       "                                                    Cumulative Frequency  \\\n",
       "What factors do you consider while selecting th...                         \n",
       "Customer service  attentive to particular need...                     9   \n",
       "Reputation of the company - well known and inte...                    16   \n",
       "Loyalty programme- attractive rewards for loyal...                    18   \n",
       "Price- attractive price                                               19   \n",
       "\n",
       "                                                      Percent  \\\n",
       "What factors do you consider while selecting th...              \n",
       "Customer service  attentive to particular need...  47.368421   \n",
       "Reputation of the company - well known and inte...  36.842105   \n",
       "Loyalty programme- attractive rewards for loyal...  10.526316   \n",
       "Price- attractive price                              5.263158   \n",
       "\n",
       "                                                    Cumulative Percent  \n",
       "What factors do you consider while selecting th...                      \n",
       "Customer service  attentive to particular need...           47.368421  \n",
       "Reputation of the company - well known and inte...           84.210526  \n",
       "Loyalty programme- attractive rewards for loyal...           94.736842  \n",
       "Price- attractive price                                     100.000000  "
      ]
     },
     "execution_count": 37,
     "metadata": {},
     "output_type": "execute_result"
    }
   ],
   "source": [
    "sdf = df['What factors do you consider while selecting the banking for services?'].value_counts().to_frame(name=\"Frequency\")\n",
    "sdf['Cumulative Frequency'] = Cumulative(list(sdf['Frequency'].values))\n",
    "sdf['Percent'] = percent(sdf)\n",
    "sdf['Cumulative Percent'] = Cumulative(list(sdf['Percent'].values))\n",
    "sdf.index.names = ['What factors do you consider while selecting the banking for services?']\n",
    "sdf"
   ]
  },
  {
   "cell_type": "code",
   "execution_count": 38,
   "metadata": {},
   "outputs": [
    {
     "data": {
      "text/plain": [
       "(0, 15)"
      ]
     },
     "execution_count": 38,
     "metadata": {},
     "output_type": "execute_result"
    },
    {
     "name": "stderr",
     "output_type": "stream",
     "text": [
      "C:\\Users\\User\\Anaconda3\\lib\\site-packages\\matplotlib\\backends\\backend_agg.py:211: RuntimeWarning: Glyph 150 missing from current font.\n",
      "  font.set_text(s, 0.0, flags=flags)\n",
      "C:\\Users\\User\\Anaconda3\\lib\\site-packages\\matplotlib\\backends\\backend_agg.py:180: RuntimeWarning: Glyph 150 missing from current font.\n",
      "  font.set_text(s, 0, flags=flags)\n"
     ]
    },
    {
     "data": {
      "image/png": "[encoded data removed]",
      "text/plain": [
       "<Figure size 720x360 with 1 Axes>"
      ]
     },
     "metadata": {
      "needs_background": "light"
     },
     "output_type": "display_data"
    }
   ],
   "source": [
    "df1 = df.groupby('What factors do you consider while selecting the banking for services?').size().to_frame(name=\"values\")\n",
    "# import random\n",
    "n = df['What factors do you consider while selecting the banking for services?'].unique().__len__()+1\n",
    "all_colors = list(plt.cm.colors.cnames.keys())\n",
    "random.seed(8)\n",
    "c = random.choices(all_colors, k=n)\n",
    "# Plot Bars\n",
    "plt.figure(figsize=(10,5))\n",
    "plt.bar(df1.index, [i[0] for i in df1.values.tolist() ],color=['r','g','b'])\n",
    "for i, val in enumerate(df1.values):\n",
    "    plt.text(i, val, float(val), horizontalalignment='center', verticalalignment='bottom', fontdict={'fontweight':500, 'size':12})\n",
    "\n",
    "# Decoration\n",
    "plt.gca().set_xticklabels(df1.index, rotation=60, horizontalalignment= 'right')\n",
    "plt.title(\"What factors do you consider while selecting the banking for services?\", fontsize=5)\n",
    "plt.ylabel('Value')\n",
    "plt.ylim(0,15)"
   ]
  },
  {
   "cell_type": "code",
   "execution_count": 39,
   "metadata": {},
   "outputs": [
    {
     "ename": "NameError",
     "evalue": "name 'bank_service_factor' is not defined",
     "output_type": "error",
     "traceback": [
      "\u001b[1;31m---------------------------------------------------------------------------\u001b[0m",
      "\u001b[1;31mNameError\u001b[0m                                 Traceback (most recent call last)",
      "\u001b[1;32m<ipython-input-39-677a17b9da98>\u001b[0m in \u001b[0;36m<module>\u001b[1;34m\u001b[0m\n\u001b[1;32m----> 1\u001b[1;33m \u001b[0mprint\u001b[0m\u001b[1;33m(\u001b[0m\u001b[0mbank_service_factor\u001b[0m\u001b[1;33m[\u001b[0m\u001b[1;34m\"Percentage\"\u001b[0m\u001b[1;33m]\u001b[0m\u001b[1;33m[\u001b[0m\u001b[1;36m0\u001b[0m\u001b[1;33m]\u001b[0m \u001b[1;33m,\u001b[0m \u001b[1;34m\"Percentage of people  prefer \"\u001b[0m\u001b[1;33m,\u001b[0m\u001b[0mbank_service_factor\u001b[0m\u001b[1;33m.\u001b[0m\u001b[0mindex\u001b[0m\u001b[1;33m[\u001b[0m\u001b[1;36m0\u001b[0m\u001b[1;33m]\u001b[0m\u001b[1;33m)\u001b[0m\u001b[1;33m\u001b[0m\u001b[1;33m\u001b[0m\u001b[0m\n\u001b[0m",
      "\u001b[1;31mNameError\u001b[0m: name 'bank_service_factor' is not defined"
     ]
    }
   ],
   "source": [
    "print(bank_service_factor[\"Percentage\"][0] , \"Percentage of people  prefer \",bank_service_factor.index[0])"
   ]
  },
  {
   "cell_type": "code",
   "execution_count": null,
   "metadata": {},
   "outputs": [],
   "source": [
    "sdf = df['What media or source do you often use to search for banking service?'].value_counts().to_frame(name=\"Frequency\")\n",
    "sdf['Cumulative Frequency'] = Cumulative(list(sdf['Frequency'].values))\n",
    "sdf['Percent'] = percent(sdf)\n",
    "sdf['Cumulative Percent'] = Cumulative(list(sdf['Percent'].values))\n",
    "sdf.index.names = ['What media or source do you often use to search for banking service?']\n",
    "sdf"
   ]
  },
  {
   "cell_type": "code",
   "execution_count": null,
   "metadata": {},
   "outputs": [],
   "source": [
    "# df.groupby('What media or source do you often use to search for banking service?').size().to_frame(name=\"values\")"
   ]
  },
  {
   "cell_type": "code",
   "execution_count": null,
   "metadata": {},
   "outputs": [],
   "source": [
    "# source = df.groupby('What media or source do you often use to search for banking service?').size().to_frame(name=\"values\")"
   ]
  },
  {
   "cell_type": "code",
   "execution_count": null,
   "metadata": {},
   "outputs": [],
   "source": [
    "# source['Percentage'] = source.values *100 / source.values.sum()"
   ]
  },
  {
   "cell_type": "code",
   "execution_count": null,
   "metadata": {},
   "outputs": [],
   "source": [
    "# source"
   ]
  },
  {
   "cell_type": "code",
   "execution_count": null,
   "metadata": {},
   "outputs": [],
   "source": [
    "fig, ax1 = plt.subplots(figsize=(7,10), dpi= 80)\n",
    "\n",
    "explode = (0,0.1) \n",
    "ax1.pie(df['What media or source do you often use to search for banking service?'].value_counts().values, labels=df['What media or source do you often use to search for banking service?'].value_counts().index, autopct='%1.1f%%',\n",
    "        shadow=True, startangle=18)\n",
    "ax1.set_title(\"What media or source do you often use to search for banking service?\")\n",
    "plt.show()"
   ]
  },
  {
   "cell_type": "code",
   "execution_count": null,
   "metadata": {},
   "outputs": [],
   "source": [
    "# 80 % people use internet to search banking service"
   ]
  },
  {
   "cell_type": "code",
   "execution_count": null,
   "metadata": {},
   "outputs": [],
   "source": [
    "# fig, ax1 = plt.subplots(figsize=(10,5))\n",
    "# df.groupby('Do attractive prices of banking service attract you?').size().plot(kind='bar',color=['r','g','b','y'])"
   ]
  },
  {
   "cell_type": "code",
   "execution_count": null,
   "metadata": {},
   "outputs": [],
   "source": [
    "sdf = df['Do attractive prices of banking service attract you?'].value_counts().to_frame(name=\"Frequency\")\n",
    "sdf['Cumulative Frequency'] = Cumulative(list(sdf['Frequency'].values))\n",
    "sdf['Percent'] = percent(sdf)\n",
    "sdf['Cumulative Percent'] = Cumulative(list(sdf['Percent'].values))\n",
    "sdf.index.names = ['Do attractive prices of banking service attract you?']\n",
    "sdf"
   ]
  },
  {
   "cell_type": "code",
   "execution_count": null,
   "metadata": {},
   "outputs": [],
   "source": [
    "df1 = df.groupby('Do attractive prices of banking service attract you?').size().to_frame(name=\"values\")\n",
    "# import random\n",
    "n = df['Do attractive prices of banking service attract you?'].unique().__len__()+1\n",
    "all_colors = list(plt.cm.colors.cnames.keys())\n",
    "random.seed(100)\n",
    "c = random.choices(all_colors, k=n)\n",
    "# Plot Bars\n",
    "plt.figure(figsize=(10,5))\n",
    "plt.bar(df1.index, [i[0] for i in df1.values.tolist() ],color=c)\n",
    "for i, val in enumerate(df1.values):\n",
    "    plt.text(i, val, float(val), horizontalalignment='center', verticalalignment='bottom', fontdict={'fontweight':500, 'size':12})\n",
    "\n",
    "# Decoration\n",
    "plt.gca().set_xticklabels(df1.index, rotation=60, horizontalalignment= 'right')\n",
    "plt.title(\"Do attractive prices of banking service attract you?\", fontsize=12)\n",
    "plt.ylabel('Value')\n",
    "plt.ylim(0, 20)"
   ]
  },
  {
   "cell_type": "code",
   "execution_count": null,
   "metadata": {},
   "outputs": [],
   "source": [
    "fig, ax1 = plt.subplots(figsize=(7,10), dpi= 80)\n",
    "\n",
    "explode = (0,0.1) \n",
    "ax1.pie(df['Do attractive prices of banking service attract you?'].value_counts().values, labels=df['Do attractive prices of banking service attract you?'].value_counts().index, autopct='%1.1f%%',\n",
    "        shadow=True, startangle=70)\n",
    "ax1.set_title(\"Do attractive prices of banking service attract you?\")\n",
    "plt.show()"
   ]
  },
  {
   "cell_type": "code",
   "execution_count": null,
   "metadata": {},
   "outputs": [],
   "source": [
    "# Will you comport by using banking services considering the great experience and quality of service?"
   ]
  },
  {
   "cell_type": "code",
   "execution_count": null,
   "metadata": {},
   "outputs": [],
   "source": [
    "sdf = df['Will you comport by using banking services considering the great experience and quality of service?'].value_counts().to_frame(name=\"Frequency\")\n",
    "sdf['Cumulative Frequency'] = Cumulative(list(sdf['Frequency'].values))\n",
    "sdf['Percent'] = percent(sdf)\n",
    "sdf['Cumulative Percent'] = Cumulative(list(sdf['Percent'].values))\n",
    "sdf.index.names = ['Will you comport by using banking services considering the great experience and quality of service?']\n",
    "sdf"
   ]
  },
  {
   "cell_type": "code",
   "execution_count": null,
   "metadata": {},
   "outputs": [],
   "source": [
    "df1 = df.groupby('Will you comport by using banking services considering the great experience and quality of service?').size().to_frame(name=\"values\")\n",
    "# import random\n",
    "# n = df['Do attractive prices of banking service attract you?'].unique().__len__()+1\n",
    "# all_colors = list(plt.cm.colors.cnames.keys())\n",
    "# random.seed(100)\n",
    "# c = random.choices(all_colors, k=n)\n",
    "# Plot Bars\n",
    "plt.figure(figsize=(10,5))\n",
    "plt.bar(df1.index, [i[0] for i in df1.values.tolist() ],color=['g','r'])\n",
    "for i, val in enumerate(df1.values):\n",
    "    plt.text(i, val, float(val), horizontalalignment='center', verticalalignment='bottom', fontdict={'fontweight':500, 'size':12})\n",
    "\n",
    "# Decoration\n",
    "plt.gca().set_xticklabels(df1.index, rotation=60, horizontalalignment= 'right')\n",
    "plt.title(\"Will you comport by using banking services considering the great experience and quality of service?\", fontsize=12)\n",
    "plt.ylabel('Value')\n",
    "plt.ylim(0, 20)"
   ]
  },
  {
   "cell_type": "code",
   "execution_count": null,
   "metadata": {},
   "outputs": [],
   "source": [
    "# fig, ax1 = plt.subplots(figsize=(10,5))\n",
    "# df.groupby('Will you comport by using banking services considering the great experience and quality of service?').size().plot(kind='bar',color=['r','g','b','y'])"
   ]
  },
  {
   "cell_type": "code",
   "execution_count": null,
   "metadata": {},
   "outputs": [],
   "source": [
    "fig, ax1 = plt.subplots(figsize=(7,10), dpi= 80)\n",
    "\n",
    "explode = (0,0.1) \n",
    "ax1.pie(df['Will you comport by using banking services considering the great experience and quality of service?'].value_counts().values, labels=df['Will you comport by using banking services considering the great experience and quality of service?'].value_counts().index, autopct='%1.1f%%',\n",
    "        shadow=True, startangle=45,explode=explode)\n",
    "ax1.set_title(\"Will you comport by using banking services considering the great experience and quality of service?\")\n",
    "plt.show()"
   ]
  },
  {
   "cell_type": "code",
   "execution_count": null,
   "metadata": {},
   "outputs": [],
   "source": [
    "# 'Describe the overall state of relations between Nepalese banking and its customers.'"
   ]
  },
  {
   "cell_type": "code",
   "execution_count": null,
   "metadata": {},
   "outputs": [],
   "source": [
    "sdf = df['Describe the overall state of relations between Nepalese banking and its customers.'].value_counts().to_frame(name=\"Frequency\")\n",
    "sdf['Cumulative Frequency'] = Cumulative(list(sdf['Frequency'].values))\n",
    "sdf['Percent'] = percent(sdf)\n",
    "sdf['Cumulative Percent'] = Cumulative(list(sdf['Percent'].values))\n",
    "sdf.index.names = ['Describe the overall state of relations between Nepalese banking and its customers.']\n",
    "sdf"
   ]
  },
  {
   "cell_type": "code",
   "execution_count": null,
   "metadata": {},
   "outputs": [],
   "source": [
    "fig, ax1 = plt.subplots(figsize=(6,10), dpi= 80)\n",
    "\n",
    "ax1.pie(df['Describe the overall state of relations between Nepalese banking and its customers.'].value_counts().values, labels=df['Describe the overall state of relations between Nepalese banking and its customers.'].value_counts().index, autopct='%1.1f%%',\n",
    "        shadow=True, startangle=22)\n",
    "ax1.set_title(\"Describe the overall state of relations between Nepalese banking and its customers.\")\n",
    "\n",
    "plt.show()"
   ]
  },
  {
   "cell_type": "code",
   "execution_count": null,
   "metadata": {},
   "outputs": [],
   "source": [
    "# fig, ax1 = plt.subplots(figsize=(10,5))\n",
    "# df.groupby('Describe the overall state of relations between Nepalese banking and its customers.').size().plot(kind='bar',color=['r','g','b','y'])"
   ]
  },
  {
   "cell_type": "code",
   "execution_count": null,
   "metadata": {},
   "outputs": [],
   "source": [
    "df1 = df.groupby('Describe the overall state of relations between Nepalese banking and its customers.').size().to_frame(name=\"values\")\n",
    "# import random\n",
    "n = df['Describe the overall state of relations between Nepalese banking and its customers.'].unique().__len__()+1\n",
    "all_colors = list(plt.cm.colors.cnames.keys())\n",
    "random.seed(50)\n",
    "c = random.choices(all_colors, k=n)\n",
    "# Plot Bars\n",
    "plt.figure(figsize=(10,5))\n",
    "plt.bar(df1.index, [i[0] for i in df1.values.tolist() ],color=c)\n",
    "for i, val in enumerate(df1.values):\n",
    "    plt.text(i, val, float(val), horizontalalignment='center', verticalalignment='bottom', fontdict={'fontweight':500, 'size':12})\n",
    "\n",
    "# Decoration\n",
    "plt.gca().set_xticklabels(df1.index, rotation=60, horizontalalignment= 'right')\n",
    "plt.title(\"Describe the overall state of relations between Nepalese banking and its customers.\", fontsize=12)\n",
    "plt.ylabel('Value')\n",
    "plt.ylim(0, 20)"
   ]
  },
  {
   "cell_type": "code",
   "execution_count": null,
   "metadata": {},
   "outputs": [],
   "source": []
  },
  {
   "cell_type": "code",
   "execution_count": null,
   "metadata": {},
   "outputs": [],
   "source": [
    "# 'Rate the degree of impact customer service has on corporate reputation.'"
   ]
  },
  {
   "cell_type": "code",
   "execution_count": null,
   "metadata": {},
   "outputs": [],
   "source": [
    "sdf = df['Rate the degree of impact customer service has on corporate reputation.'].value_counts().to_frame(name=\"Frequency\")\n",
    "sdf['Cumulative Frequency'] = Cumulative(list(sdf['Frequency'].values))\n",
    "sdf['Percent'] = percent(sdf)\n",
    "sdf['Cumulative Percent'] = Cumulative(list(sdf['Percent'].values))\n",
    "sdf.index.names = ['Rate the degree of impact customer service has on corporate reputation.']\n",
    "sdf"
   ]
  },
  {
   "cell_type": "code",
   "execution_count": null,
   "metadata": {},
   "outputs": [],
   "source": [
    "fig, ax1 = plt.subplots(figsize=(7,10), dpi= 80)\n",
    "\n",
    "# explode = (0,0.1) \n",
    "ax1.pie(df['Rate the degree of impact customer service has on corporate reputation.'].value_counts().values, labels=df['Rate the degree of impact customer service has on corporate reputation.'].value_counts().index, autopct='%1.1f%%',\n",
    "        shadow=True, startangle=22)\n",
    "ax1.set_title(\"Rate the degree of impact customer service has on corporate reputation.\")\n",
    "\n",
    "plt.show()"
   ]
  },
  {
   "cell_type": "code",
   "execution_count": null,
   "metadata": {},
   "outputs": [],
   "source": [
    "# fig, ax1 = plt.subplots(figsize=(10,5))\n",
    "# df.groupby('Rate the degree of impact customer service has on corporate reputation.').size().plot(kind='bar',color=['b','y','g','r'])"
   ]
  },
  {
   "cell_type": "code",
   "execution_count": null,
   "metadata": {},
   "outputs": [],
   "source": [
    "df1 = df.groupby('Rate the degree of impact customer service has on corporate reputation.').size().to_frame(name=\"values\")\n",
    "# import random\n",
    "n = df['Rate the degree of impact customer service has on corporate reputation.'].unique().__len__()+1\n",
    "all_colors = list(plt.cm.colors.cnames.keys())\n",
    "random.seed(4)\n",
    "c = random.choices(all_colors, k=n)\n",
    "# Plot Bars\n",
    "plt.figure(figsize=(10,5))\n",
    "plt.bar(df1.index, [i[0] for i in df1.values.tolist() ],color=c)\n",
    "for i, val in enumerate(df1.values):\n",
    "    plt.text(i, val, float(val), horizontalalignment='center', verticalalignment='bottom', fontdict={'fontweight':500, 'size':12})\n",
    "\n",
    "# Decoration\n",
    "plt.gca().set_xticklabels(df1.index, rotation=60, horizontalalignment= 'right')\n",
    "plt.title(\"Rate the degree of impact customer service has on corporate reputation.\", fontsize=12)\n",
    "plt.ylabel('Value')\n",
    "plt.ylim(0, 10)"
   ]
  },
  {
   "cell_type": "code",
   "execution_count": null,
   "metadata": {},
   "outputs": [],
   "source": []
  },
  {
   "cell_type": "code",
   "execution_count": null,
   "metadata": {},
   "outputs": [],
   "source": [
    "# 'How would you rate customer satisfaction at Nepalese banking?'"
   ]
  },
  {
   "cell_type": "code",
   "execution_count": null,
   "metadata": {},
   "outputs": [],
   "source": [
    "sdf = df['How would you rate customer satisfaction at Nepalese banking?'].value_counts().to_frame(name=\"Frequency\")\n",
    "sdf['Cumulative Frequency'] = Cumulative(list(sdf['Frequency'].values))\n",
    "sdf['Percent'] = percent(sdf)\n",
    "sdf['Cumulative Percent'] = Cumulative(list(sdf['Percent'].values))\n",
    "sdf.index.names = ['How would you rate customer satisfaction at Nepalese banking?']\n",
    "sdf"
   ]
  },
  {
   "cell_type": "code",
   "execution_count": null,
   "metadata": {},
   "outputs": [],
   "source": [
    "fig, ax1 = plt.subplots(figsize=(7,10), dpi= 80)\n",
    "# explode = (0,0.1) \n",
    "ax1.pie(df['How would you rate customer satisfaction at Nepalese banking?'].value_counts().values, labels=df['How would you rate customer satisfaction at Nepalese banking?'].value_counts().index, autopct='%1.1f%%',\n",
    "        shadow=True, startangle=22)\n",
    "ax1.set_title(\"How would you rate customer satisfaction at Nepalese banking?\")\n",
    "\n",
    "plt.show()"
   ]
  },
  {
   "cell_type": "code",
   "execution_count": null,
   "metadata": {},
   "outputs": [],
   "source": [
    "# fig, ax1 = plt.subplots(figsize=(10,5))\n",
    "# df.groupby('How would you rate customer satisfaction at Nepalese banking?').size().plot(kind='bar',color=['b','g','r'])"
   ]
  },
  {
   "cell_type": "code",
   "execution_count": null,
   "metadata": {},
   "outputs": [],
   "source": [
    "df1 = df.groupby('How would you rate customer satisfaction at Nepalese banking?').size().to_frame(name=\"values\")\n",
    "# import random\n",
    "n = df['How would you rate customer satisfaction at Nepalese banking?'].unique().__len__()+1\n",
    "all_colors = list(plt.cm.colors.cnames.keys())\n",
    "random.seed(3)\n",
    "c = random.choices(all_colors, k=n)\n",
    "# Plot Bars\n",
    "plt.figure(figsize=(10,5))\n",
    "plt.bar(df1.index, [i[0] for i in df1.values.tolist() ],color=c)\n",
    "for i, val in enumerate(df1.values):\n",
    "    plt.text(i, val, float(val), horizontalalignment='center', verticalalignment='bottom', fontdict={'fontweight':500, 'size':12})\n",
    "\n",
    "# Decoration\n",
    "plt.gca().set_xticklabels(df1.index, rotation=60, horizontalalignment= 'right')\n",
    "plt.title(\"How would you rate customer satisfaction at Nepalese banking?\", fontsize=12)\n",
    "plt.ylabel('Value')\n",
    "plt.ylim(0, 15)"
   ]
  },
  {
   "cell_type": "code",
   "execution_count": null,
   "metadata": {},
   "outputs": [],
   "source": [
    "# df.groupby('How would you rate customer satisfaction at Nepalese banking?').size().to_frame(name=\"values\")"
   ]
  },
  {
   "cell_type": "code",
   "execution_count": null,
   "metadata": {},
   "outputs": [],
   "source": []
  },
  {
   "cell_type": "code",
   "execution_count": null,
   "metadata": {},
   "outputs": [],
   "source": [
    "# 'How would you rate the effectiveness of Nepalese banking CRM?'"
   ]
  },
  {
   "cell_type": "code",
   "execution_count": null,
   "metadata": {},
   "outputs": [],
   "source": [
    "sdf = df['How would you rate the effectiveness of Nepalese banking CRM?'].value_counts().to_frame(name=\"Frequency\")\n",
    "sdf['Cumulative Frequency'] = Cumulative(list(sdf['Frequency'].values))\n",
    "sdf['Percent'] = percent(sdf)\n",
    "sdf['Cumulative Percent'] = Cumulative(list(sdf['Percent'].values))\n",
    "sdf.index.names = ['How would you rate the effectiveness of Nepalese banking CRM?']\n",
    "sdf"
   ]
  },
  {
   "cell_type": "code",
   "execution_count": null,
   "metadata": {},
   "outputs": [],
   "source": [
    "fig, ax1 = plt.subplots(figsize=(7,10), dpi= 80)\n",
    "# explode = (0,0.1) \n",
    "ax1.pie(df['How would you rate the effectiveness of Nepalese banking CRM?'].value_counts().values, labels=df['How would you rate the effectiveness of Nepalese banking CRM?'].value_counts().index, autopct='%1.1f%%',\n",
    "        shadow=True, startangle=22)\n",
    "ax1.set_title(\"How would you rate the effectiveness of Nepalese banking CRM?\")\n",
    "\n",
    "plt.show()"
   ]
  },
  {
   "cell_type": "code",
   "execution_count": null,
   "metadata": {},
   "outputs": [],
   "source": [
    "# fig, ax1 = plt.subplots(figsize=(10,5))\n",
    "# df.groupby('How would you rate the effectiveness of Nepalese banking CRM?').size().plot(kind='bar',color=['b','g','r'])"
   ]
  },
  {
   "cell_type": "code",
   "execution_count": null,
   "metadata": {},
   "outputs": [],
   "source": [
    "df1 = df.groupby('How would you rate the effectiveness of Nepalese banking CRM?').size().to_frame(name=\"values\")\n",
    "# import random\n",
    "n = df['How would you rate the effectiveness of Nepalese banking CRM?'].unique().__len__()+1\n",
    "all_colors = list(plt.cm.colors.cnames.keys())\n",
    "random.seed(2)\n",
    "c = random.choices(all_colors, k=n)\n",
    "# Plot Bars\n",
    "plt.figure(figsize=(10,5))\n",
    "plt.bar(df1.index, [i[0] for i in df1.values.tolist() ],color=c)\n",
    "for i, val in enumerate(df1.values):\n",
    "    plt.text(i, val, float(val), horizontalalignment='center', verticalalignment='bottom', fontdict={'fontweight':500, 'size':12})\n",
    "\n",
    "# Decoration\n",
    "plt.gca().set_xticklabels(df1.index, rotation=60, horizontalalignment= 'right')\n",
    "plt.title(\"How would you rate the effectiveness of Nepalese banking CRM?\", fontsize=12)\n",
    "plt.ylabel('Value')\n",
    "plt.ylim(0, 15)"
   ]
  },
  {
   "cell_type": "code",
   "execution_count": null,
   "metadata": {},
   "outputs": [],
   "source": [
    "# df.head(1)"
   ]
  },
  {
   "cell_type": "code",
   "execution_count": null,
   "metadata": {},
   "outputs": [],
   "source": [
    "# 'How does Nepalese banking to any of your requests and complaints?'"
   ]
  },
  {
   "cell_type": "code",
   "execution_count": null,
   "metadata": {},
   "outputs": [],
   "source": [
    "sdf = df['How does Nepalese banking to any of your requests and complaints?'].value_counts().to_frame(name=\"Frequency\")\n",
    "sdf['Cumulative Frequency'] = Cumulative(list(sdf['Frequency'].values))\n",
    "sdf['Percent'] = percent(sdf)\n",
    "sdf['Cumulative Percent'] = Cumulative(list(sdf['Percent'].values))\n",
    "sdf.index.names = ['How does Nepalese banking to any of your requests and complaints?']\n",
    "sdf"
   ]
  },
  {
   "cell_type": "code",
   "execution_count": null,
   "metadata": {},
   "outputs": [],
   "source": [
    "df1 = df.groupby('How does Nepalese banking to any of your requests and complaints?').size().to_frame(name=\"values\")\n",
    "# import random\n",
    "n = df['How does Nepalese banking to any of your requests and complaints?'].unique().__len__()+1\n",
    "all_colors = list(plt.cm.colors.cnames.keys())\n",
    "random.seed(1)\n",
    "c = random.choices(all_colors, k=n)\n",
    "# Plot Bars\n",
    "plt.figure(figsize=(10,5))\n",
    "plt.bar(df1.index, [i[0] for i in df1.values.tolist() ],color=c)\n",
    "for i, val in enumerate(df1.values):\n",
    "    plt.text(i, val, float(val), horizontalalignment='center', verticalalignment='bottom', fontdict={'fontweight':500, 'size':12})\n",
    "\n",
    "# Decoration\n",
    "plt.gca().set_xticklabels(df1.index, rotation=60, horizontalalignment= 'right')\n",
    "plt.title(\"How does Nepalese banking to any of your requests and complaints?\", fontsize=12)\n",
    "plt.ylabel('Value')\n",
    "plt.ylim(0, 15)"
   ]
  },
  {
   "cell_type": "code",
   "execution_count": null,
   "metadata": {},
   "outputs": [],
   "source": [
    "# fig, ax1 = plt.subplots(figsize=(10,5))\n",
    "# df.groupby('How does Nepalese banking to any of your requests and complaints?').size().plot(kind='barh',color=['g','r'])"
   ]
  },
  {
   "cell_type": "code",
   "execution_count": null,
   "metadata": {},
   "outputs": [],
   "source": [
    "fig, ax1 = plt.subplots(figsize=(7,10))\n",
    "explode = (0,0.1) \n",
    "ax1.pie(df['How does Nepalese banking to any of your requests and complaints?'].value_counts().values, labels=df['How does Nepalese banking to any of your requests and complaints?'].value_counts().index, autopct='%1.1f%%',\n",
    "        shadow=True, startangle=60,explode=explode)\n",
    "ax1.set_title(\"How does Nepalese banking to any of your requests and complaints?\")\n",
    "plt.show()"
   ]
  },
  {
   "cell_type": "code",
   "execution_count": null,
   "metadata": {},
   "outputs": [],
   "source": [
    "# 'How would you describe Nepalese banking strategy with regards to CRM?'"
   ]
  },
  {
   "cell_type": "code",
   "execution_count": null,
   "metadata": {},
   "outputs": [],
   "source": [
    "sdf = df['How would you describe Nepalese banking strategy with regards to CRM?'].value_counts().to_frame(name=\"Frequency\")\n",
    "sdf['Cumulative Frequency'] = Cumulative(list(sdf['Frequency'].values))\n",
    "sdf['Percent'] = percent(sdf)\n",
    "sdf['Cumulative Percent'] = Cumulative(list(sdf['Percent'].values))\n",
    "sdf.index.names = ['How would you describe Nepalese banking strategy with regards to CRM?']\n",
    "sdf"
   ]
  },
  {
   "cell_type": "code",
   "execution_count": null,
   "metadata": {},
   "outputs": [],
   "source": [
    "import random\n",
    "df1 = df.groupby('How would you describe Nepalese banking strategy with regards to CRM?').size().to_frame(name=\"values\")\n",
    "\n",
    "plt.figure(figsize=(10,5))\n",
    "plt.bar(df1.index, [i[0] for i in df1.values.tolist() ],color=['r','g','b'])\n",
    "for i, val in enumerate(df1.values):\n",
    "    plt.text(i, val, float(val), horizontalalignment='center', verticalalignment='bottom', fontdict={'fontweight':500, 'size':12})\n",
    "\n",
    "# Decoration\n",
    "plt.gca().set_xticklabels(df1.index, rotation=60, horizontalalignment= 'right')\n",
    "plt.title(\"How would you describe Nepalese banking strategy with regards to CRM?\", fontsize=12)\n",
    "plt.ylabel('Y axix')\n",
    "plt.ylim(0, 15)"
   ]
  },
  {
   "cell_type": "code",
   "execution_count": null,
   "metadata": {},
   "outputs": [],
   "source": [
    "# df.head(1)"
   ]
  },
  {
   "cell_type": "code",
   "execution_count": null,
   "metadata": {},
   "outputs": [],
   "source": [
    "# Lastly, will you recommend Nepalese banking service to others?"
   ]
  },
  {
   "cell_type": "code",
   "execution_count": null,
   "metadata": {},
   "outputs": [],
   "source": [
    "sdf = df['Lastly, will you recommend Nepalese banking service to others?'].value_counts().to_frame(name=\"Frequency\")\n",
    "sdf['Cumulative Frequency'] = Cumulative(list(sdf['Frequency'].values))\n",
    "sdf['Percent'] = percent(sdf)\n",
    "sdf['Cumulative Percent'] = Cumulative(list(sdf['Percent'].values))\n",
    "sdf.index.names = ['Lastly, will you recommend Nepalese banking service to others?']\n",
    "sdf"
   ]
  },
  {
   "cell_type": "code",
   "execution_count": null,
   "metadata": {},
   "outputs": [],
   "source": [
    "import random\n",
    "df1 = df.groupby('Lastly, will you recommend Nepalese banking service to others?').size().to_frame(name=\"values\")\n",
    "n = df['Lastly, will you recommend Nepalese banking service to others?'].unique().__len__()+1\n",
    "all_colors = list(plt.cm.colors.cnames.keys())\n",
    "random.seed(1)\n",
    "c = random.choices(all_colors, k=n)\n",
    "# Plot Bars\n",
    "plt.figure(figsize=(10,5))\n",
    "plt.bar(df1.index, [i[0] for i in df1.values.tolist() ],color=c)\n",
    "for i, val in enumerate(df1.values):\n",
    "    plt.text(i, val, float(val), horizontalalignment='center', verticalalignment='bottom', fontdict={'fontweight':500, 'size':12})\n",
    "\n",
    "# Decoration\n",
    "plt.gca().set_xticklabels(df1.index, rotation=60, horizontalalignment= 'right')\n",
    "plt.title(\"Lastly, will you recommend Nepalese banking service to others?\", fontsize=12)\n",
    "plt.ylabel('Y axix')\n",
    "plt.ylim(0, 20)"
   ]
  },
  {
   "cell_type": "code",
   "execution_count": null,
   "metadata": {},
   "outputs": [],
   "source": [
    "fig, ax1 = plt.subplots(figsize=(7,10))\n",
    "\n",
    "ax1.pie(df['Lastly, will you recommend Nepalese banking service to others?'].value_counts().values, labels=df['Lastly, will you recommend Nepalese banking service to others?'].value_counts().index, autopct='%1.1f%%',\n",
    "        shadow=True, startangle=6)\n",
    "ax1.set_title(\"Lastly, will you recommend Nepalese banking service to others?\")\n",
    "plt.show()"
   ]
  },
  {
   "cell_type": "code",
   "execution_count": null,
   "metadata": {},
   "outputs": [],
   "source": []
  }
 ],
 "metadata": {
  "kernelspec": {
   "display_name": "Python 3",
   "language": "python",
   "name": "python3"
  },
  "language_info": {
   "codemirror_mode": {
    "name": "ipython",
    "version": 3
   },
   "file_extension": ".py",
   "mimetype": "text/x-python",
   "name": "python",
   "nbconvert_exporter": "python",
   "pygments_lexer": "ipython3",
   "version": "3.7.4"
  }
 },
 "nbformat": 4,
 "nbformat_minor": 2
}
